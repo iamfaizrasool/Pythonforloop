{
  "metadata": {
    "kernelspec": {
      "name": "python",
      "display_name": "Python (Pyodide)",
      "language": "python"
    },
    "language_info": {
      "codemirror_mode": {
        "name": "python",
        "version": 3
      },
      "file_extension": ".py",
      "mimetype": "text/x-python",
      "name": "python",
      "nbconvert_exporter": "python",
      "pygments_lexer": "ipython3",
      "version": "3.8"
    }
  },
  "nbformat_minor": 5,
  "nbformat": 4,
  "cells": [
    {
      "id": "b9f167aa-e8dd-4e97-b0ad-f030a4d0ae4e",
      "cell_type": "code",
      "source": "#1:Write for loop to print even numbers\nfor n in range(2, 21, 2):\n     print(n)",
      "metadata": {
        "trusted": true
      },
      "outputs": [
        {
          "name": "stdout",
          "output_type": "stream",
          "text": "2\n4\n6\n8\n10\n12\n14\n16\n18\n20\n"
        }
      ],
      "execution_count": 1
    },
    {
      "id": "4e48aa9d-14f9-42b7-811d-94c6092e125c",
      "cell_type": "code",
      "source": "#2:Create a list of names adn use a for loop to print each name in uppercase\nunique_names = [\"Ali\", \"Niazi\", \"Awais\", \"Usman\"]\nfor name in unique_names:\n     print(name.upper())",
      "metadata": {
        "trusted": true
      },
      "outputs": [
        {
          "name": "stdout",
          "output_type": "stream",
          "text": "ALI\nNIAZI\nAWAIS\nUSMAN\n"
        }
      ],
      "execution_count": 2
    },
    {
      "id": "a207dcbd-7c61-4d1f-b094-c5c86a58bb17",
      "cell_type": "code",
      "source": "#3:Use for Loop with range to print numbers from 10 to 1 in reverse order\nfor r in range(10, 1, -1):\n    print(r)",
      "metadata": {
        "trusted": true
      },
      "outputs": [
        {
          "name": "stdout",
          "output_type": "stream",
          "text": "10\n9\n8\n7\n6\n5\n4\n3\n2\n"
        }
      ],
      "execution_count": 3
    },
    {
      "id": "195c21bc-d6f9-4eab-b174-fc77805b045a",
      "cell_type": "code",
      "source": "#Iterate through a list of integers and print only the numbers that are divisible by 3.\nintegers = [ 15, 20, 25, 30, 45, 50, 72]\nfor int in integers:\n     if int % 3 == 0:\n         print(int)",
      "metadata": {
        "trusted": true
      },
      "outputs": [
        {
          "name": "stdout",
          "output_type": "stream",
          "text": "15\n30\n45\n72\n"
        }
      ],
      "execution_count": 4
    },
    {
      "id": "74110834-7744-4aef-b0e5-d56fc3b0c479",
      "cell_type": "code",
      "source": "#5:Write a loop that prints the squares of numbers from 1 to 10.\nnumberssquare = [1, 2, 3, 4, 5, 6, 7, 8, 9, 10]\nfor square in numberssquare:\n    new_square = square ** 2\n    print(new_square)",
      "metadata": {
        "trusted": true
      },
      "outputs": [
        {
          "name": "stdout",
          "output_type": "stream",
          "text": "1\n4\n9\n16\n25\n36\n49\n64\n81\n100\n"
        }
      ],
      "execution_count": 5
    },
    {
      "id": "82c76886-246e-4f69-a67a-6c119190668e",
      "cell_type": "code",
      "source": "#6:Given a list of temperatures in Celsius, use a for loop to convert each to Fahrenheit.\ncelsius_temp = [15, 27, 33, 39, 47]\nfor temp in celsius_temp:\n    farenhite_temp = (temp * 9/5) + 32\n    print(farenhite_temp)",
      "metadata": {
        "trusted": true
      },
      "outputs": [
        {
          "name": "stdout",
          "output_type": "stream",
          "text": "59.0\n80.6\n91.4\n102.2\n116.6\n"
        }
      ],
      "execution_count": 8
    },
    {
      "id": "e5fe8f49-702f-430f-a27d-5fc8ea29539b",
      "cell_type": "code",
      "source": "#7:Create a for loop that prints the multiplication table of 5.\ntable_five = [1, 2, 3, 4, 5, 6, 7, 8, 9, 10]\nfor five in table_five:\n     print(f\"5 x {five} = {5 * five}\")\n",
      "metadata": {
        "trusted": true
      },
      "outputs": [
        {
          "name": "stdout",
          "output_type": "stream",
          "text": "5 x 1 = 5\n5 x 2 = 10\n5 x 3 = 15\n5 x 4 = 20\n5 x 5 = 25\n5 x 6 = 30\n5 x 7 = 35\n5 x 8 = 40\n5 x 9 = 45\n5 x 10 = 50\n"
        }
      ],
      "execution_count": 16
    },
    {
      "id": "0156f0f7-6560-4fc0-8102-9797661f9b17",
      "cell_type": "code",
      "source": "#8:Write a program to find the sum of all numbers in a list using a for loop.\nadding_numbers = [15, 30, 45, 60, 75, 90]\ntotal_number = 0\n#printing total sum via loop\nfor addnumber in adding_numbers:\n    total_number = total_number + addnumber\n    print(total_number)\n\n#Printing Total Sum without loop\nprint(total_number)",
      "metadata": {
        "trusted": true
      },
      "outputs": [
        {
          "name": "stdout",
          "output_type": "stream",
          "text": "15\n45\n90\n150\n225\n315\n315\n"
        }
      ],
      "execution_count": 21
    },
    {
      "id": "73a65ae9-4fdb-40dd-b6d7-0502a63517ee",
      "cell_type": "code",
      "source": "#9:Use a for loop to iterate through a string and print each character separately.\nstring = \"Pakistan\"\nfor i in string:\n    print(i)",
      "metadata": {
        "trusted": true
      },
      "outputs": [
        {
          "name": "stdout",
          "output_type": "stream",
          "text": "P\na\nk\ni\ns\nt\na\nn\n"
        }
      ],
      "execution_count": 22
    },
    {
      "id": "317a340a-1bf6-427b-b667-bf086089b64c",
      "cell_type": "code",
      "source": "#10:Create a list of words and use a for loop to print only the words with more than 5 letters.\nnames= [\"Abubakar\", \"Nazakat\", Faizan",
      "metadata": {
        "trusted": true
      },
      "outputs": [],
      "execution_count": null
    }
  ]
}